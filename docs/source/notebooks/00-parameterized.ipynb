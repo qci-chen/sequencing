{
 "cells": [
  {
   "cell_type": "markdown",
   "metadata": {},
   "source": [
    "![seQuencing logo](../images/sequencing-logo.svg)\n",
    "\n",
    "# Parameters"
   ]
  },
  {
   "cell_type": "markdown",
   "metadata": {},
   "source": [
    "## Short introduction to `attrs`\n",
    "\n",
    "`sequencing` relies on the [attrs package](https://www.attrs.org/en/stable/index.html) for defining and instantiating classes with many parameters. `attrs` allows you to define classes with minimal boilerplate by automating the creation of important methods like `__init__`, `__repr__`, `__str__`, and comparison methods like `__eq__`. For full details on `attrs`, check out the [documentation](https://www.attrs.org/en/stable/overview.html).\n",
    "\n",
    "A class defined using `attrs` must be decorated with `@attr.s` (or `attr.attrs`). In place of an explicit `__init__` method, attributes of a class decorated with `@attr.s` can have instance attributes defined at the class level using `attr.ib()` (or `attr.attrib()`). Adding attributes to a class using `attr.ib()` has many advantages:\n",
    "\n",
    "- Attributes may be required or have a default value\n",
    "- Defaults can be defined either with a specific value or with a \"factory\"\n",
    "  function that generates a default value when called\n",
    "- Attributes can have a `type` associated with them, or a `converter`\n",
    "  function that converts the user-specified value into the desired format\n",
    "- Attributes can have `validators` which raise an error if an invalid value is provided\n",
    "\n",
    "For the full list of options see [attr.ib()](https://www.attrs.org/en/stable/api.html#attr.ib)\n",
    "\n",
    "## `Parameterized`\n",
    "\n",
    "`sequencing` builds on the functionality of `attrs` using a class called [Parameterized](../api/classes.rst#Parameterized). `Parameterized` objects must have a `name` and can have any number of `parameters`, which can be created using the functions defined in `sequencing.parameters`, or by using `attrs` directly via [attr.ib()](https://www.attrs.org/en/stable/api.html#attr.ib).\n",
    "\n",
    "**Parameterized offers the following convenient features:**\n",
    "\n",
    "- Recursive `get()` and `set()` methods for getting and setting attributes of nested `Parameterized` objects.\n",
    "- Methods for converting a `Parameterized` object into a Python `dict`, and creating a new `Parameterized` object from a `dict`.\n",
    "- Methods for serializing a `Parameterized` object to `json` and creating a new `Parameterized` object from `json`.\n",
    "\n",
    "**Notes:**\n",
    "\n",
    "- Subclasses of `Parameterized` must be decorated with `@attr.s`\n",
    "- Subclasses of `Parameterized` can define an `initialize()` method, which takes no arguments.\n",
    "  It will be called on instantiation after the `attrs`-generated `__init__` method\n",
    "  (see [__attrs_post_init__](https://www.attrs.org/en/stable/examples.html?highlight=__attrs#other-goodies)\n",
    "  for more details). If defined, the subclass' `initialize()` method should always call `super().initialize()`\n",
    "  to ensure that the superclass is correctly initialized."
   ]
  },
  {
   "cell_type": "code",
   "execution_count": 1,
   "metadata": {},
   "outputs": [],
   "source": [
    "import json\n",
    "from pprint import pprint\n",
    "import attr\n",
    "from sequencing.parameters import (\n",
    "    Parameterized, StringParameter, BoolParameter, ListParameter, DictParameter,\n",
    "    IntParameter, FloatParameter, NanosecondParameter, GigahertzParameter, RadianParameter,\n",
    ")"
   ]
  },
  {
   "cell_type": "code",
   "execution_count": 2,
   "metadata": {},
   "outputs": [],
   "source": [
    "@attr.s\n",
    "class Engine(Parameterized):\n",
    "    cylinders = IntParameter(4)\n",
    "    displacement = FloatParameter(2, unit='liter')\n",
    "    current_rpm = FloatParameter(0, unit='rpm')\n",
    "    turbo_charged = BoolParameter(False)\n",
    "    \n",
    "@attr.s\n",
    "class Transmission(Parameterized):\n",
    "    manual = BoolParameter(False)\n",
    "    num_gears = IntParameter(5)\n",
    "    current_gear = IntParameter(1)\n",
    "    \n",
    "    def initialize(self):\n",
    "        super().initialize()\n",
    "        # Add private attributes in initialize()\n",
    "        self._is_broken = True\n",
    "    \n",
    "    @property\n",
    "    def has_clutch(self):\n",
    "        return self.manual\n",
    "    \n",
    "    def shift_to(self, gear):\n",
    "        if gear not in range(self.num_gears+1):\n",
    "            # 0 is reverse\n",
    "            raise ValueError(f'Cannot shift into gear {gear}')\n",
    "        if abs(gear - self.current_gear) > 1:\n",
    "            raise ValueError('Cannot skip gears')\n",
    "        self.current_gear = gear\n",
    "        \n",
    "@attr.s\n",
    "class Car(Parameterized):\n",
    "    VALID_CHASSIS = ['sedan', 'coupe', 'hatchback', 'suv']\n",
    "    chassis = StringParameter('sedan', validator=attr.validators.in_(VALID_CHASSIS))\n",
    "    num_doors = IntParameter(4, validator=attr.validators.in_([2,4]))\n",
    "    miles_per_gallon = FloatParameter(30, unit='mpg')\n",
    "    \n",
    "    engine = attr.ib(factory=lambda: Engine('engine'))\n",
    "    transmission = attr.ib(factory=lambda: Transmission('transmission'))"
   ]
  },
  {
   "cell_type": "code",
   "execution_count": 3,
   "metadata": {},
   "outputs": [
    {
     "name": "stdout",
     "output_type": "stream",
     "text": [
      "Car(name='car', cls='__main__.Car', chassis='sedan', num_doors=4, miles_per_gallon=30.0, engine=Engine(name='engine', cls='__main__.Engine', cylinders=4, displacement=2.0, current_rpm=0.0, turbo_charged=False), transmission=Transmission(name='transmission', cls='__main__.Transmission', manual=False, num_gears=5, current_gear=1))\n"
     ]
    }
   ],
   "source": [
    "car = Car('car') # All parameters other than name are optional because they have defaults\n",
    "print(car)"
   ]
  },
  {
   "cell_type": "code",
   "execution_count": 4,
   "metadata": {},
   "outputs": [
    {
     "name": "stdout",
     "output_type": "stream",
     "text": [
      "{'chassis': 'sedan',\n",
      " 'cls': '__main__.Car',\n",
      " 'engine': {'cls': '__main__.Engine',\n",
      "            'current_rpm': 0.0,\n",
      "            'cylinders': 4,\n",
      "            'displacement': 2.0,\n",
      "            'name': 'engine',\n",
      "            'turbo_charged': False},\n",
      " 'miles_per_gallon': 30.0,\n",
      " 'name': 'car',\n",
      " 'num_doors': 4,\n",
      " 'transmission': {'cls': '__main__.Transmission',\n",
      "                  'current_gear': 1,\n",
      "                  'manual': False,\n",
      "                  'name': 'transmission',\n",
      "                  'num_gears': 5}}\n"
     ]
    }
   ],
   "source": [
    "pprint(car.as_dict())"
   ]
  },
  {
   "cell_type": "code",
   "execution_count": 5,
   "metadata": {},
   "outputs": [
    {
     "name": "stdout",
     "output_type": "stream",
     "text": [
      "True\n"
     ]
    }
   ],
   "source": [
    "car2 = Car.from_dict(car.as_dict())\n",
    "print(car == car2)"
   ]
  },
  {
   "cell_type": "code",
   "execution_count": 6,
   "metadata": {},
   "outputs": [
    {
     "data": {
      "text/plain": [
       "True"
      ]
     },
     "execution_count": 6,
     "metadata": {},
     "output_type": "execute_result"
    }
   ],
   "source": [
    "car.get('engine.displacement') == {'engine.displacement': car.engine.displacement}"
   ]
  },
  {
   "cell_type": "code",
   "execution_count": 7,
   "metadata": {},
   "outputs": [
    {
     "data": {
      "text/plain": [
       "True"
      ]
     },
     "execution_count": 7,
     "metadata": {},
     "output_type": "execute_result"
    }
   ],
   "source": [
    "car.set_param('engine.displacement', 2.5)\n",
    "car.get_param('engine.displacement') == car.engine.displacement == 2.5"
   ]
  },
  {
   "cell_type": "code",
   "execution_count": 8,
   "metadata": {},
   "outputs": [
    {
     "name": "stdout",
     "output_type": "stream",
     "text": [
      "{'engine.displacement': 3.0}\n"
     ]
    }
   ],
   "source": [
    "car.set(engine__displacement=3.0)\n",
    "print(car.get('engine.displacement'))"
   ]
  },
  {
   "cell_type": "code",
   "execution_count": 9,
   "metadata": {},
   "outputs": [
    {
     "name": "stdout",
     "output_type": "stream",
     "text": [
      "RPM: 0.0, gear: 1\n",
      "RPM: 4000, gear: 3\n",
      "RPM: 0.0, gear: 1\n"
     ]
    }
   ],
   "source": [
    "print(f'RPM: {car.engine.current_rpm}, gear: {car.transmission.current_gear}')\n",
    "\n",
    "with car.temporarily_set(engine__current_rpm=4000, transmission__current_gear=3):\n",
    "    print(f'RPM: {car.engine.current_rpm}, gear: {car.transmission.current_gear}')\n",
    "    \n",
    "print(f'RPM: {car.engine.current_rpm}, gear: {car.transmission.current_gear}')"
   ]
  },
  {
   "cell_type": "code",
   "execution_count": 10,
   "metadata": {},
   "outputs": [
    {
     "name": "stdout",
     "output_type": "stream",
     "text": [
      "ValueError: 'chassis' must be in ['sedan', 'coupe', 'hatchback', 'suv'] (got 'convertible')\n"
     ]
    }
   ],
   "source": [
    "try:\n",
    "    convertible = Car('convertible', chassis='convertible')\n",
    "except ValueError as e:\n",
    "    print('ValueError:', e)"
   ]
  },
  {
   "cell_type": "code",
   "execution_count": 11,
   "metadata": {},
   "outputs": [
    {
     "name": "stdout",
     "output_type": "stream",
     "text": [
      "ValueError: 'num_doors' must be in [2, 4] (got 3)\n"
     ]
    }
   ],
   "source": [
    "try:\n",
    "    three_door = Car('three_door', num_doors=3)\n",
    "except ValueError as e:\n",
    "    print('ValueError:', e)"
   ]
  },
  {
   "cell_type": "code",
   "execution_count": 12,
   "metadata": {},
   "outputs": [
    {
     "data": {
      "text/html": [
       "<table><tr><th>Software</th><th>Version</th></tr><tr><td>QuTiP</td><td>4.5.2</td></tr><tr><td>Numpy</td><td>1.19.2</td></tr><tr><td>SciPy</td><td>1.5.2</td></tr><tr><td>matplotlib</td><td>3.2.2</td></tr><tr><td>Cython</td><td>0.29.21</td></tr><tr><td>Number of CPUs</td><td>4</td></tr><tr><td>BLAS Info</td><td>INTEL MKL</td></tr><tr><td>IPython</td><td>7.19.0</td></tr><tr><td>Python</td><td>3.7.0 (default, Jun 28 2018, 08:04:48) [MSC v.1912 64 bit (AMD64)]</td></tr><tr><td>OS</td><td>nt [win32]</td></tr><tr><td colspan='2'>Sun Jan 24 16:06:57 2021 Eastern Standard Time</td></tr></table>"
      ],
      "text/plain": [
       "<IPython.core.display.HTML object>"
      ]
     },
     "execution_count": 12,
     "metadata": {},
     "output_type": "execute_result"
    }
   ],
   "source": [
    "from qutip.ipynbtools import version_table\n",
    "version_table()"
   ]
  },
  {
   "cell_type": "code",
   "execution_count": null,
   "metadata": {},
   "outputs": [],
   "source": []
  }
 ],
 "metadata": {
  "kernelspec": {
   "display_name": "Python 3",
   "language": "python",
   "name": "python3"
  },
  "language_info": {
   "codemirror_mode": {
    "name": "ipython",
    "version": 3
   },
   "file_extension": ".py",
   "mimetype": "text/x-python",
   "name": "python",
   "nbconvert_exporter": "python",
   "pygments_lexer": "ipython3",
   "version": "3.9.1"
  }
 },
 "nbformat": 4,
 "nbformat_minor": 4
}
