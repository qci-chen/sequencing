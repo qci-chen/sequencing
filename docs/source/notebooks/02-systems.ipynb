{
 "cells": [
  {
   "cell_type": "markdown",
   "metadata": {},
   "source": [
    "![seQuencing logo](../images/sequencing-logo.svg)\n",
    "\n",
    "# Systems\n",
    "\n",
    "A [System](../api/classes.rst#System) is an object that contains one or more [Modes](#Modes), defines the coupling between them, and generates the drift (time-independent) Hamiltonian in the Hilbert space consisting of all of its `Modes`, or any subset of them.\n",
    "\n",
    "The Hilbert space used in generating the drift Hamiltonian is determined by the list `system.active_modes`, the elements of which must all be in `system.modes`. Upon initialization, `system.active_modes` is set to be equal to `system.modes`.\n",
    "\n",
    "Setting `system.active_modes = list_of_modes` automatically updates the `space` for each `Mode` in `list_of_modes` to be equal to `list_of_modes`, so that each `Mode` is now aware of the Hilbert space in which it exists."
   ]
  },
  {
   "cell_type": "code",
   "execution_count": 1,
   "metadata": {},
   "outputs": [],
   "source": [
    "%config InlineBackend.figure_formats = ['svg']\n",
    "%matplotlib inline\n",
    "import inspect\n",
    "import numpy as np\n",
    "import qutip\n",
    "from sequencing import Transmon, Cavity, System, CouplingTerm"
   ]
  },
  {
   "cell_type": "code",
   "execution_count": 2,
   "metadata": {},
   "outputs": [
    {
     "name": "stdout",
     "output_type": "stream",
     "text": [
      "Before system initialization:\n",
      "\tqubit.space is ['qubit']\n",
      "\tqubit Hilbert space dimension is [[3], [3]]\n",
      "\tcavity.space is ['cavity']\n",
      "\tcavity Hilbert space dimension is [[10], [10]]\n",
      "\n",
      "After system initialization:\n",
      "\tsystem.active_modes is ['qubit', 'cavity']\n",
      "\tsystem Hilbert space dimension is [[3, 10], [3, 10]]\n",
      "\tqubit.space is ['qubit', 'cavity']\n",
      "\tqubit Hilbert space dimension is [[3, 10], [3, 10]]\n",
      "\tcavity.space is ['qubit', 'cavity']\n",
      "\tcavity Hilbert space dimension is [[3, 10], [3, 10]]\n"
     ]
    }
   ],
   "source": [
    "qubit = Transmon('qubit', levels=3, kerr=-200e-3)\n",
    "cavity = Cavity('cavity', levels=10, kerr=-10e-6)\n",
    "\n",
    "print('Before system initialization:')\n",
    "for mode in [qubit, cavity]:\n",
    "    print(f'\\t{mode.name}.space is', [m.name for m in mode.space])\n",
    "    print(f'\\t{mode.name} Hilbert space dimension is', mode.I.dims)\n",
    "\n",
    "system = System('system', modes=[qubit, cavity])\n",
    "\n",
    "print('\\nAfter system initialization:')\n",
    "print(f'\\t{system.name}.active_modes is', [m.name for m in system.active_modes])\n",
    "print(f'\\t{system.name} Hilbert space dimension is', system.I().dims)\n",
    "for mode in [qubit, cavity]:\n",
    "    print(f'\\t{mode.name}.space is', [m.name for m in mode.space])\n",
    "    print(f'\\t{mode.name} Hilbert space dimension is', mode.I.dims)"
   ]
  },
  {
   "cell_type": "markdown",
   "metadata": {},
   "source": [
    "## Using a subset of the full system space\n",
    "\n",
    "`Systems` have a method called `System.use_modes()`, which is a [contextmanager](https://docs.python.org/3/library/contextlib.html#contextlib.contextmanager) that allows you to temporarily set `system.active_modes` to some subset of `system.modes` and then automatically revert the state of the `system` when you are done."
   ]
  },
  {
   "cell_type": "code",
   "execution_count": 3,
   "metadata": {},
   "outputs": [
    {
     "name": "stdout",
     "output_type": "stream",
     "text": [
      "Using full system space:\n",
      "[[3, 10], [3, 10]]\n",
      "\n",
      "Using just the qubit subspace:\n",
      "[[3], [3]]\n",
      "\n",
      "Using just the cavity subspace:\n",
      "[[10], [10]]\n",
      "\n",
      "Using full system space (again):\n",
      "[[3, 10], [3, 10]]\n"
     ]
    }
   ],
   "source": [
    "print('Using full system space:')\n",
    "print(system.I().dims)\n",
    "\n",
    "for mode in ['qubit', 'cavity']:\n",
    "    with system.use_modes([mode]):\n",
    "        print(f'\\nUsing just the {mode} subspace:')\n",
    "        print(system.I().dims)\n",
    "        \n",
    "print('\\nUsing full system space (again):')\n",
    "print(system.I().dims)"
   ]
  },
  {
   "cell_type": "markdown",
   "metadata": {},
   "source": [
    "## Coupling `Modes` together\n",
    "\n",
    "Couplings between `Modes` are defined in the dictionary `system.coupling_terms`, the keys of which are of the form `frozenset({mode0_name, mode1_name})` (the mode order does not matter here), and the values of which are a list of [CouplingTerm](../api/classes.rst#CouplingTerm) objects. A list of operators representing all multi-mode couplings in the system is returned by `System.couplings()`.\n",
    "\n",
    "Cross-Kerrs, which are proportional to `mode1.n * mode2.n` for two distinct `Modes`, can be defined using the method `System.set_cross_kerr()`."
   ]
  },
  {
   "cell_type": "code",
   "execution_count": 4,
   "metadata": {},
   "outputs": [
    {
     "name": "stdout",
     "output_type": "stream",
     "text": [
      "class CouplingTerm:\n",
      "\n",
      "\tAn object representing a coupling between two ``Modes``,\n",
      "\tgiven by a Hamiltonian term of the form ``strength * op1 * op2``.\n",
      "\tIf the keyword argument ``add_hc`` is provided and is True,\n",
      "\tthen the Hamiltonian term takes the form\n",
      "\t``strength * ((op1 * op2) + (op1 * op2).dag())``.\n",
      "\t\n",
      "\tArgs:\n",
      "\t    mode1 (Mode): First mode to be coupled.\n",
      "\t    op1_expr (str): String representation of mode1's operator in the coupling term.\n",
      "\t    mode2 (Mode): Second mode to tbe coupled (can the same object as mode1).\n",
      "\t    op2_expr (str): String representation of mode2's operator in the coupling term.\n",
      "\t    strength (optional, float): Coefficient parameterizing the\n",
      "\t        strength of the coupling. Strength should be given in\n",
      "\t        units of 2 * pi * GHz. Default: 1.\n",
      "\t    add_hc (optional, bool): Whether to add the Hermitian conjugate\n",
      "\t        of the product of op1 and op2. Default: False.\n"
     ]
    }
   ],
   "source": [
    "print('class CouplingTerm:')\n",
    "print('\\n\\t'.join([''] + inspect.getdoc(CouplingTerm).split('\\n')))"
   ]
  },
  {
   "cell_type": "code",
   "execution_count": 5,
   "metadata": {},
   "outputs": [
    {
     "name": "stdout",
     "output_type": "stream",
     "text": [
      "Cross-Kerrs (in GHz):\n",
      "\t {frozenset({'cavity', 'qubit'}): -0.002}\n",
      "Coupling terms (strength in 2 * pi * GHz):\n",
      "\t {frozenset({'cavity', 'qubit'}): [CouplingTerm(qubit.n, cavity.n, strength=-1.257e-02, add_hc=False)]}\n"
     ]
    },
    {
     "data": {
      "text/latex": [
       "Quantum object: dims = [[3, 10], [3, 10]], shape = (30, 30), type = oper, isherm = True\\begin{equation*}\\left(\\begin{array}{*{11}c}0.0 & 0.0 & 0.0 & 0.0 & 0.0 & \\cdots & 0.0 & 0.0 & 0.0 & 0.0 & 0.0\\\\0.0 & 0.0 & 0.0 & 0.0 & 0.0 & \\cdots & 0.0 & 0.0 & 0.0 & 0.0 & 0.0\\\\0.0 & 0.0 & 0.0 & 0.0 & 0.0 & \\cdots & 0.0 & 0.0 & 0.0 & 0.0 & 0.0\\\\0.0 & 0.0 & 0.0 & 0.0 & 0.0 & \\cdots & 0.0 & 0.0 & 0.0 & 0.0 & 0.0\\\\0.0 & 0.0 & 0.0 & 0.0 & 0.0 & \\cdots & 0.0 & 0.0 & 0.0 & 0.0 & 0.0\\\\\\vdots & \\vdots & \\vdots & \\vdots & \\vdots & \\ddots & \\vdots & \\vdots & \\vdots & \\vdots & \\vdots\\\\0.0 & 0.0 & 0.0 & 0.0 & 0.0 & \\cdots & -0.126 & 0.0 & 0.0 & 0.0 & 0.0\\\\0.0 & 0.0 & 0.0 & 0.0 & 0.0 & \\cdots & 0.0 & -0.151 & 0.0 & 0.0 & 0.0\\\\0.0 & 0.0 & 0.0 & 0.0 & 0.0 & \\cdots & 0.0 & 0.0 & -0.176 & 0.0 & 0.0\\\\0.0 & 0.0 & 0.0 & 0.0 & 0.0 & \\cdots & 0.0 & 0.0 & 0.0 & -0.201 & 0.0\\\\0.0 & 0.0 & 0.0 & 0.0 & 0.0 & \\cdots & 0.0 & 0.0 & 0.0 & 0.0 & -0.226\\\\\\end{array}\\right)\\end{equation*}"
      ],
      "text/plain": [
       "Quantum object: dims = [[3, 10], [3, 10]], shape = (30, 30), type = oper, isherm = True\n",
       "Qobj data =\n",
       "[[ 0.          0.          0.          0.          0.          0.\n",
       "   0.          0.          0.          0.          0.          0.\n",
       "   0.          0.          0.          0.          0.          0.\n",
       "   0.          0.          0.          0.          0.          0.\n",
       "   0.          0.          0.          0.          0.          0.        ]\n",
       " [ 0.          0.          0.          0.          0.          0.\n",
       "   0.          0.          0.          0.          0.          0.\n",
       "   0.          0.          0.          0.          0.          0.\n",
       "   0.          0.          0.          0.          0.          0.\n",
       "   0.          0.          0.          0.          0.          0.        ]\n",
       " [ 0.          0.          0.          0.          0.          0.\n",
       "   0.          0.          0.          0.          0.          0.\n",
       "   0.          0.          0.          0.          0.          0.\n",
       "   0.          0.          0.          0.          0.          0.\n",
       "   0.          0.          0.          0.          0.          0.        ]\n",
       " [ 0.          0.          0.          0.          0.          0.\n",
       "   0.          0.          0.          0.          0.          0.\n",
       "   0.          0.          0.          0.          0.          0.\n",
       "   0.          0.          0.          0.          0.          0.\n",
       "   0.          0.          0.          0.          0.          0.        ]\n",
       " [ 0.          0.          0.          0.          0.          0.\n",
       "   0.          0.          0.          0.          0.          0.\n",
       "   0.          0.          0.          0.          0.          0.\n",
       "   0.          0.          0.          0.          0.          0.\n",
       "   0.          0.          0.          0.          0.          0.        ]\n",
       " [ 0.          0.          0.          0.          0.          0.\n",
       "   0.          0.          0.          0.          0.          0.\n",
       "   0.          0.          0.          0.          0.          0.\n",
       "   0.          0.          0.          0.          0.          0.\n",
       "   0.          0.          0.          0.          0.          0.        ]\n",
       " [ 0.          0.          0.          0.          0.          0.\n",
       "   0.          0.          0.          0.          0.          0.\n",
       "   0.          0.          0.          0.          0.          0.\n",
       "   0.          0.          0.          0.          0.          0.\n",
       "   0.          0.          0.          0.          0.          0.        ]\n",
       " [ 0.          0.          0.          0.          0.          0.\n",
       "   0.          0.          0.          0.          0.          0.\n",
       "   0.          0.          0.          0.          0.          0.\n",
       "   0.          0.          0.          0.          0.          0.\n",
       "   0.          0.          0.          0.          0.          0.        ]\n",
       " [ 0.          0.          0.          0.          0.          0.\n",
       "   0.          0.          0.          0.          0.          0.\n",
       "   0.          0.          0.          0.          0.          0.\n",
       "   0.          0.          0.          0.          0.          0.\n",
       "   0.          0.          0.          0.          0.          0.        ]\n",
       " [ 0.          0.          0.          0.          0.          0.\n",
       "   0.          0.          0.          0.          0.          0.\n",
       "   0.          0.          0.          0.          0.          0.\n",
       "   0.          0.          0.          0.          0.          0.\n",
       "   0.          0.          0.          0.          0.          0.        ]\n",
       " [ 0.          0.          0.          0.          0.          0.\n",
       "   0.          0.          0.          0.          0.          0.\n",
       "   0.          0.          0.          0.          0.          0.\n",
       "   0.          0.          0.          0.          0.          0.\n",
       "   0.          0.          0.          0.          0.          0.        ]\n",
       " [ 0.          0.          0.          0.          0.          0.\n",
       "   0.          0.          0.          0.          0.         -0.01256637\n",
       "   0.          0.          0.          0.          0.          0.\n",
       "   0.          0.          0.          0.          0.          0.\n",
       "   0.          0.          0.          0.          0.          0.        ]\n",
       " [ 0.          0.          0.          0.          0.          0.\n",
       "   0.          0.          0.          0.          0.          0.\n",
       "  -0.02513274  0.          0.          0.          0.          0.\n",
       "   0.          0.          0.          0.          0.          0.\n",
       "   0.          0.          0.          0.          0.          0.        ]\n",
       " [ 0.          0.          0.          0.          0.          0.\n",
       "   0.          0.          0.          0.          0.          0.\n",
       "   0.         -0.03769911  0.          0.          0.          0.\n",
       "   0.          0.          0.          0.          0.          0.\n",
       "   0.          0.          0.          0.          0.          0.        ]\n",
       " [ 0.          0.          0.          0.          0.          0.\n",
       "   0.          0.          0.          0.          0.          0.\n",
       "   0.          0.         -0.05026548  0.          0.          0.\n",
       "   0.          0.          0.          0.          0.          0.\n",
       "   0.          0.          0.          0.          0.          0.        ]\n",
       " [ 0.          0.          0.          0.          0.          0.\n",
       "   0.          0.          0.          0.          0.          0.\n",
       "   0.          0.          0.         -0.06283185  0.          0.\n",
       "   0.          0.          0.          0.          0.          0.\n",
       "   0.          0.          0.          0.          0.          0.        ]\n",
       " [ 0.          0.          0.          0.          0.          0.\n",
       "   0.          0.          0.          0.          0.          0.\n",
       "   0.          0.          0.          0.         -0.07539822  0.\n",
       "   0.          0.          0.          0.          0.          0.\n",
       "   0.          0.          0.          0.          0.          0.        ]\n",
       " [ 0.          0.          0.          0.          0.          0.\n",
       "   0.          0.          0.          0.          0.          0.\n",
       "   0.          0.          0.          0.          0.         -0.08796459\n",
       "   0.          0.          0.          0.          0.          0.\n",
       "   0.          0.          0.          0.          0.          0.        ]\n",
       " [ 0.          0.          0.          0.          0.          0.\n",
       "   0.          0.          0.          0.          0.          0.\n",
       "   0.          0.          0.          0.          0.          0.\n",
       "  -0.10053096  0.          0.          0.          0.          0.\n",
       "   0.          0.          0.          0.          0.          0.        ]\n",
       " [ 0.          0.          0.          0.          0.          0.\n",
       "   0.          0.          0.          0.          0.          0.\n",
       "   0.          0.          0.          0.          0.          0.\n",
       "   0.         -0.11309734  0.          0.          0.          0.\n",
       "   0.          0.          0.          0.          0.          0.        ]\n",
       " [ 0.          0.          0.          0.          0.          0.\n",
       "   0.          0.          0.          0.          0.          0.\n",
       "   0.          0.          0.          0.          0.          0.\n",
       "   0.          0.          0.          0.          0.          0.\n",
       "   0.          0.          0.          0.          0.          0.        ]\n",
       " [ 0.          0.          0.          0.          0.          0.\n",
       "   0.          0.          0.          0.          0.          0.\n",
       "   0.          0.          0.          0.          0.          0.\n",
       "   0.          0.          0.         -0.02513274  0.          0.\n",
       "   0.          0.          0.          0.          0.          0.        ]\n",
       " [ 0.          0.          0.          0.          0.          0.\n",
       "   0.          0.          0.          0.          0.          0.\n",
       "   0.          0.          0.          0.          0.          0.\n",
       "   0.          0.          0.          0.         -0.05026548  0.\n",
       "   0.          0.          0.          0.          0.          0.        ]\n",
       " [ 0.          0.          0.          0.          0.          0.\n",
       "   0.          0.          0.          0.          0.          0.\n",
       "   0.          0.          0.          0.          0.          0.\n",
       "   0.          0.          0.          0.          0.         -0.07539822\n",
       "   0.          0.          0.          0.          0.          0.        ]\n",
       " [ 0.          0.          0.          0.          0.          0.\n",
       "   0.          0.          0.          0.          0.          0.\n",
       "   0.          0.          0.          0.          0.          0.\n",
       "   0.          0.          0.          0.          0.          0.\n",
       "  -0.10053096  0.          0.          0.          0.          0.        ]\n",
       " [ 0.          0.          0.          0.          0.          0.\n",
       "   0.          0.          0.          0.          0.          0.\n",
       "   0.          0.          0.          0.          0.          0.\n",
       "   0.          0.          0.          0.          0.          0.\n",
       "   0.         -0.12566371  0.          0.          0.          0.        ]\n",
       " [ 0.          0.          0.          0.          0.          0.\n",
       "   0.          0.          0.          0.          0.          0.\n",
       "   0.          0.          0.          0.          0.          0.\n",
       "   0.          0.          0.          0.          0.          0.\n",
       "   0.          0.         -0.15079645  0.          0.          0.        ]\n",
       " [ 0.          0.          0.          0.          0.          0.\n",
       "   0.          0.          0.          0.          0.          0.\n",
       "   0.          0.          0.          0.          0.          0.\n",
       "   0.          0.          0.          0.          0.          0.\n",
       "   0.          0.          0.         -0.17592919  0.          0.        ]\n",
       " [ 0.          0.          0.          0.          0.          0.\n",
       "   0.          0.          0.          0.          0.          0.\n",
       "   0.          0.          0.          0.          0.          0.\n",
       "   0.          0.          0.          0.          0.          0.\n",
       "   0.          0.          0.          0.         -0.20106193  0.        ]\n",
       " [ 0.          0.          0.          0.          0.          0.\n",
       "   0.          0.          0.          0.          0.          0.\n",
       "   0.          0.          0.          0.          0.          0.\n",
       "   0.          0.          0.          0.          0.          0.\n",
       "   0.          0.          0.          0.          0.         -0.22619467]]"
      ]
     },
     "metadata": {},
     "output_type": "display_data"
    }
   ],
   "source": [
    "system.set_cross_kerr(qubit, cavity, chi=-2e-3)\n",
    "print('Cross-Kerrs (in GHz):\\n\\t', system.cross_kerrs)\n",
    "print('Coupling terms (strength in 2 * pi * GHz):\\n\\t', dict(system.coupling_terms))\n",
    "display(system.couplings()[0])"
   ]
  },
  {
   "cell_type": "markdown",
   "metadata": {},
   "source": [
    "## Drift Hamiltonian\n",
    "\n",
    "The system time-indenependent (drift) Hamiltonian includes the self-Kerr (anharmonicity) of each mode, the detuning of each mode relative to the frame in which its operators are defined, and all couplings between modes. The method `System.H0()` returns all of these operators in a list, which can be summed to get the full drift Hamiltonian operator. By default, `System.H0()` returns a list containing only those operators which have nonzero elements, but the full list of operators can be returned by using the keyword argument `clean=False`.\n",
    "\n",
    "Similarly, the method `System.c_ops()` returns a list of all operators representing loss and dephasing of all modes."
   ]
  },
  {
   "cell_type": "code",
   "execution_count": 6,
   "metadata": {},
   "outputs": [
    {
     "data": {
      "text/plain": [
       "True"
      ]
     },
     "execution_count": 6,
     "metadata": {},
     "output_type": "execute_result"
    }
   ],
   "source": [
    "len(system.H0()) == 3\n",
    "# [qubit.self_kerr, cavity.self_kerr, qubit-cavity cross-Kerr]"
   ]
  },
  {
   "cell_type": "code",
   "execution_count": 7,
   "metadata": {},
   "outputs": [
    {
     "data": {
      "text/plain": [
       "True"
      ]
     },
     "execution_count": 7,
     "metadata": {},
     "output_type": "execute_result"
    }
   ],
   "source": [
    "len(system.H0(clean=False)) == 5\n",
    "# [qubit.self_kerr, cavity.self_kerr, qubit.detuning, cavity.detuning, qubit-cavity cross-Kerr]"
   ]
  },
  {
   "cell_type": "code",
   "execution_count": 8,
   "metadata": {},
   "outputs": [
    {
     "name": "stdout",
     "output_type": "stream",
     "text": [
      "With qubit.t1 = inf, there are 0 nonzero c_ops\n",
      "With qubit.t1 = 100000.0, there are 1 nonzero c_ops\n",
      "With qubit.t1 = 100000.0, qubit.t2 = 100000.0, there are 2 nonzero c_ops\n"
     ]
    }
   ],
   "source": [
    "for t1 in ['inf', 100e3]:\n",
    "    qubit.t1 = float(t1)\n",
    "    print(f'With {qubit.name}.t1 = {t1}, there are {len(system.c_ops(clean=True))} nonzero c_ops')\n",
    "qubit.t2 = 100e3\n",
    "print(\n",
    "    f'With {qubit.name}.t1 = {t1}, {qubit.name}.t2 = {qubit.t2}, '\n",
    "    f'there are {len(system.c_ops(clean=True))} nonzero c_ops'\n",
    ")"
   ]
  },
  {
   "cell_type": "code",
   "execution_count": 9,
   "metadata": {},
   "outputs": [
    {
     "data": {
      "text/html": [
       "<table><tr><th>Software</th><th>Version</th></tr><tr><td>QuTiP</td><td>4.5.2</td></tr><tr><td>Numpy</td><td>1.19.2</td></tr><tr><td>SciPy</td><td>1.5.2</td></tr><tr><td>matplotlib</td><td>3.2.2</td></tr><tr><td>Cython</td><td>0.29.21</td></tr><tr><td>Number of CPUs</td><td>4</td></tr><tr><td>BLAS Info</td><td>INTEL MKL</td></tr><tr><td>IPython</td><td>7.19.0</td></tr><tr><td>Python</td><td>3.7.0 (default, Jun 28 2018, 08:04:48) [MSC v.1912 64 bit (AMD64)]</td></tr><tr><td>OS</td><td>nt [win32]</td></tr><tr><td colspan='2'>Sun Jan 24 16:07:48 2021 Eastern Standard Time</td></tr></table>"
      ],
      "text/plain": [
       "<IPython.core.display.HTML object>"
      ]
     },
     "execution_count": 9,
     "metadata": {},
     "output_type": "execute_result"
    }
   ],
   "source": [
    "from qutip.ipynbtools import version_table\n",
    "version_table()"
   ]
  },
  {
   "cell_type": "code",
   "execution_count": null,
   "metadata": {},
   "outputs": [],
   "source": []
  }
 ],
 "metadata": {
  "kernelspec": {
   "display_name": "Python 3",
   "language": "python",
   "name": "python3"
  },
  "language_info": {
   "codemirror_mode": {
    "name": "ipython",
    "version": 3
   },
   "file_extension": ".py",
   "mimetype": "text/x-python",
   "name": "python",
   "nbconvert_exporter": "python",
   "pygments_lexer": "ipython3",
   "version": "3.9.1"
  }
 },
 "nbformat": 4,
 "nbformat_minor": 4
}
